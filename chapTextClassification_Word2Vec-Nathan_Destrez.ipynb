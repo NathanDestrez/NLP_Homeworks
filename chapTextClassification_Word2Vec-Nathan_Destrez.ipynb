{
 "cells": [
  {
   "cell_type": "markdown",
   "metadata": {
    "id": "sVtvH58nb_Hp"
   },
   "source": [
    "# Word2Vec for Text Classification\n",
    "\n",
    "In this short notebook, we will see an example of how to use a pre-trained Word2vec model for doing feature extraction and performing text classification.\n",
    "\n",
    "We will use the sentiment labelled sentences dataset from UCI repository\n",
    "http://archive.ics.uci.edu/ml/datasets/Sentiment+Labelled+Sentences\n",
    "\n",
    "The dataset consists of 1500 positive, and 1500 negative sentiment sentences from Amazon, Yelp, IMDB. Let us first combine all the three separate data files into one using the following unix command:\n",
    "\n",
    "```cat amazon_cells_labelled.txt imdb_labelled.txt yelp_labelled.txt > sentiment_sentences.txt```\n",
    "\n",
    "For a pre-trained embedding model, we will use the Google News vectors."
   ]
  },
  {
   "cell_type": "code",
   "execution_count": 2,
   "metadata": {},
   "outputs": [
    {
     "name": "stdout",
     "output_type": "stream",
     "text": [
      "Collecting wget\n",
      "  Downloading wget-3.2.zip (10 kB)\n",
      "  Preparing metadata (setup.py): started\n",
      "  Preparing metadata (setup.py): finished with status 'done'\n",
      "Building wheels for collected packages: wget\n",
      "  Building wheel for wget (setup.py): started\n",
      "  Building wheel for wget (setup.py): finished with status 'done'\n",
      "  Created wheel for wget: filename=wget-3.2-py3-none-any.whl size=9680 sha256=6a60f1cbcf4657085226b8dce7221ddf2cf09e26a76bbfd6a64e332f491a1ab6\n",
      "  Stored in directory: c:\\users\\natha\\appdata\\local\\pip\\cache\\wheels\\ba\\78\\fb\\e0c24a9e73d7483b073d15b7e05f43f3fc2ac75eff6899c7aa\n",
      "Successfully built wget\n",
      "Installing collected packages: wget\n",
      "Successfully installed wget-3.2\n",
      "Note: you may need to restart the kernel to use updated packages.\n"
     ]
    },
    {
     "name": "stderr",
     "output_type": "stream",
     "text": [
      "WARNING: Ignoring invalid distribution -atplotlib (c:\\users\\natha\\anaconda3\\lib\\site-packages)\n",
      "WARNING: Ignoring invalid distribution -atplotlib (c:\\users\\natha\\anaconda3\\lib\\site-packages)\n",
      "WARNING: Ignoring invalid distribution -atplotlib (c:\\users\\natha\\anaconda3\\lib\\site-packages)\n",
      "WARNING: Ignoring invalid distribution -atplotlib (c:\\users\\natha\\anaconda3\\lib\\site-packages)\n",
      "WARNING: Ignoring invalid distribution -atplotlib (c:\\users\\natha\\anaconda3\\lib\\site-packages)\n",
      "WARNING: Ignoring invalid distribution -atplotlib (c:\\users\\natha\\anaconda3\\lib\\site-packages)\n",
      "WARNING: Ignoring invalid distribution -atplotlib (c:\\users\\natha\\anaconda3\\lib\\site-packages)\n"
     ]
    }
   ],
   "source": [
    "pip install wget"
   ]
  },
  {
   "cell_type": "code",
   "execution_count": 113,
   "metadata": {
    "id": "JQX8DAmBb_Hr"
   },
   "outputs": [
    {
     "name": "stderr",
     "output_type": "stream",
     "text": [
      "[nltk_data] Downloading package stopwords to\n",
      "[nltk_data]     C:\\Users\\Natha\\AppData\\Roaming\\nltk_data...\n",
      "[nltk_data]   Package stopwords is already up-to-date!\n",
      "[nltk_data] Downloading package punkt to\n",
      "[nltk_data]     C:\\Users\\Natha\\AppData\\Roaming\\nltk_data...\n",
      "[nltk_data]   Package punkt is already up-to-date!\n"
     ]
    }
   ],
   "source": [
    "#basic imports\n",
    "import warnings\n",
    "warnings.filterwarnings('ignore')\n",
    "import os\n",
    "import wget\n",
    "import gzip\n",
    "import shutil\n",
    "from time import time\n",
    "import pandas as pd\n",
    "\n",
    "#pre-processing imports\n",
    "import nltk\n",
    "nltk.download('stopwords')\n",
    "nltk.download('punkt')\n",
    "from nltk.tokenize import word_tokenize\n",
    "from nltk.corpus import stopwords\n",
    "import string\n",
    "from string import punctuation\n",
    "\n",
    "#imports related to modeling\n",
    "import numpy as np\n",
    "import gensim.downloader\n",
    "from gensim.models import Word2Vec, KeyedVectors\n",
    "from sklearn.linear_model import LogisticRegression\n",
    "from sklearn.model_selection import train_test_split\n",
    "from sklearn.metrics import classification_report"
   ]
  },
  {
   "cell_type": "markdown",
   "metadata": {
    "id": "vta6y9ZN6IhN"
   },
   "source": [
    "## Loading the dataset"
   ]
  },
  {
   "cell_type": "code",
   "execution_count": 6,
   "metadata": {},
   "outputs": [
    {
     "name": "stderr",
     "output_type": "stream",
     "text": [
      "\n",
      "amazon_cells_labelled.txt\n",
      "\n",
      "\n",
      "\n",
      "imdb_labelled.txt\n",
      "\n",
      "\n",
      "\n",
      "yelp_labelled.txt\n",
      "\n",
      "\n"
     ]
    }
   ],
   "source": [
    "!type amazon_cells_labelled.txt imdb_labelled.txt yelp_labelled.txt > sentiment_sentences.txt"
   ]
  },
  {
   "cell_type": "code",
   "execution_count": 169,
   "metadata": {
    "id": "G7ptp19a6y6_"
   },
   "outputs": [],
   "source": [
    "#Read text data, categories.\n",
    "#the file path consists of tab separated sentences and categories.\n",
    "texts = []\n",
    "categories = []\n",
    "fh = open('./Data/sentiment_sentences.txt')\n",
    "for line in fh:\n",
    "    text, sentiment = line.split(\"\\t\")\n",
    "    texts.append(text)\n",
    "    categories.append(sentiment)"
   ]
  },
  {
   "cell_type": "code",
   "execution_count": 170,
   "metadata": {
    "id": "yQdoBaBL67Ic"
   },
   "outputs": [
    {
     "name": "stdout",
     "output_type": "stream",
     "text": [
      "3000 3000\n",
      "the category of text 1: ' Good case, Excellent value. ' is  1\n",
      "\n",
      "The set of categories are:  {'0\\n', '1\\n'}\n"
     ]
    }
   ],
   "source": [
    "#Inspect the dataset\n",
    "print(len(categories), len(texts))\n",
    "print(\"the category of text 1: '\",texts[1], \"' is \", categories[1])\n",
    "print(\"The set of categories are: \", set(categories))"
   ]
  },
  {
   "cell_type": "markdown",
   "metadata": {
    "id": "rV-BNwX27Hmd"
   },
   "source": [
    "## Loading the word2vec model\n",
    "For that task use KeyedVectors imported from the gensim library. <br>\n",
    "* Load the pre-trained google news 300 word2vec model to the variable w2v_model\n",
    "* Inspect the model by checking the words inside w2v_model: the number of words\n",
    "\n",
    "**NB:**<br>\n",
    "The magic command *%time* used returns the computational cost of the operation following it."
   ]
  },
  {
   "cell_type": "code",
   "execution_count": 34,
   "metadata": {},
   "outputs": [],
   "source": [
    "import gensim\n",
    "from gensim.models import KeyedVectors\n",
    "import gensim.downloader as api"
   ]
  },
  {
   "cell_type": "code",
   "execution_count": 36,
   "metadata": {
    "colab": {
     "base_uri": "https://localhost:8080/"
    },
    "executionInfo": {
     "elapsed": 31018,
     "status": "ok",
     "timestamp": 1644768745258,
     "user": {
      "displayName": "Waad Masri",
      "photoUrl": "https://lh3.googleusercontent.com/a/default-user=s64",
      "userId": "12332609461921223513"
     },
     "user_tz": -60
    },
    "id": "_2rMsyQ02N9g",
    "outputId": "dae62081-e080-4c89-b2ae-639ecc95e6fd"
   },
   "outputs": [
    {
     "name": "stdout",
     "output_type": "stream",
     "text": [
      "[==================================================] 100.0% 1662.8/1662.8MB downloaded\n",
      "Wall time: 11min 46s\n",
      "done loading Word2Vec\n"
     ]
    }
   ],
   "source": [
    "#Load W2V model. This will take some time.\n",
    "%time w2v_model = api.load(\"word2vec-google-news-300\")  # download the model and return as object ready for us\n",
    "print('done loading Word2Vec')"
   ]
  },
  {
   "cell_type": "code",
   "execution_count": 171,
   "metadata": {
    "colab": {
     "base_uri": "https://localhost:8080/"
    },
    "executionInfo": {
     "elapsed": 3078,
     "status": "ok",
     "timestamp": 1644770176993,
     "user": {
      "displayName": "Waad Masri",
      "photoUrl": "https://lh3.googleusercontent.com/a/default-user=s64",
      "userId": "12332609461921223513"
     },
     "user_tz": -60
    },
    "id": "m-WjFyC6b_IE",
    "outputId": "30448859-eae0-4cda-df8d-0b797fc93826"
   },
   "outputs": [
    {
     "name": "stdout",
     "output_type": "stream",
     "text": [
      "3000000 2702150\n"
     ]
    }
   ],
   "source": [
    "#Inspect the model\n",
    "word2vec_vocab = w2v_model.key_to_index.keys() # Create a list of all the words in the Word2Vec model's vocabulary\n",
    "word2vec_vocab_lower = [item.lower() for item in word2vec_vocab]\n",
    "print(len(set(word2vec_vocab)), len(set(word2vec_vocab_lower)))"
   ]
  },
  {
   "cell_type": "markdown",
   "metadata": {},
   "source": [
    "The Word2Vec model has a vocabulary of 3 million words. The second line converts all the words in the vocabulary to lowercase and creates a new list. The length of the original vocabulary is 3 million, while the length of the new list with lowercase words is 2.7 million. This suggests that there were around 300,000 words in the original vocabulary that had uppercase letters."
   ]
  },
  {
   "cell_type": "markdown",
   "metadata": {
    "id": "QMKkFZL_9oJx"
   },
   "source": [
    "## Preprocessing text\n",
    "* Remove the stopwords\n",
    "* Remove punctuations\n",
    "* Remove digits\n",
    "* Convert all text to lower case\n",
    "* Tokenize the text"
   ]
  },
  {
   "cell_type": "code",
   "execution_count": 172,
   "metadata": {},
   "outputs": [],
   "source": [
    "from nltk.corpus import stopwords\n",
    "stopwords = set(stopwords.words('english'))"
   ]
  },
  {
   "cell_type": "code",
   "execution_count": 173,
   "metadata": {},
   "outputs": [
    {
     "name": "stdout",
     "output_type": "stream",
     "text": [
      "{'you', 'itself', 'being', 'over', \"couldn't\", 'doing', 'have', 'below', 'for', 'at', 'isn', 'between', 'was', 'mustn', 've', 'more', 'this', 'has', 'and', 'weren', 'hasn', 'ours', 'does', 'with', 'wasn', 'own', 'now', 'who', 'are', 'down', 'to', 'my', 'o', 'by', 'why', 'that', \"hasn't\", \"don't\", 'while', 'nor', 'before', 'out', 'will', 'do', 'just', 'again', 'each', 'some', \"needn't\", 'be', 'other', \"wouldn't\", 'himself', 'haven', 'few', 'shan', 'where', 'them', 'did', 'an', 'ourselves', \"shan't\", 'i', \"you're\", \"you'll\", 'further', 't', \"isn't\", 'couldn', 'of', 'into', 'yourselves', 'only', 'theirs', \"won't\", 'but', 'its', 'not', 'against', 'she', 'their', 'won', 'it', \"aren't\", 'him', 'too', \"shouldn't\", \"weren't\", 'herself', 'yourself', \"you've\", \"mightn't\", 'a', 'wouldn', 'ain', \"it's\", \"haven't\", 'll', \"doesn't\", 'here', 'they', 'through', 'needn', 'both', 're', 'our', \"should've\", 'yours', 'your', 'didn', 'aren', 'or', 'those', 'can', 'from', 'then', 'what', 'any', 'there', 'mightn', 'than', \"that'll\", 'in', 'me', 'her', 's', 'whom', 'under', 'as', \"wasn't\", 'shouldn', 'same', 'd', \"you'd\", 'ma', 'no', 'had', 'having', 'such', 'we', 'am', 'were', 'how', 'if', 'he', 'doesn', 'y', 'which', 'once', 'm', \"hadn't\", 'about', 'the', \"mustn't\", 'his', \"didn't\", 'up', 'these', 'hadn', 'because', 'until', 'after', 'should', 'themselves', \"she's\", 'when', 'very', 'so', 'most', 'been', 'hers', 'above', 'myself', 'all', 'on', 'during', 'off', 'don', 'is'}\n"
     ]
    }
   ],
   "source": [
    "print(stopwords)"
   ]
  },
  {
   "cell_type": "code",
   "execution_count": 174,
   "metadata": {
    "id": "MFOGaDTwb_Ig"
   },
   "outputs": [],
   "source": [
    "#preprocess the text.\n",
    "def preprocess_corpus(texts):\n",
    "    \"\"\"\n",
    "    This function preprocesses a list of text strings by converting them to lowercase,\n",
    "    removing punctuation, digits, and stop words, and returning a list of clean text strings.\n",
    "    \n",
    "    Parameters:\n",
    "    -----------\n",
    "    texts: list\n",
    "        The list of text strings to preprocess.\n",
    "        \n",
    "    Returns:\n",
    "    --------\n",
    "    docs_processed: list\n",
    "        The list of preprocessed text strings.\n",
    "    \"\"\"    \n",
    "    tokens_processed = []\n",
    "    for doc in texts:\n",
    "        # Convert all text to lowercase\n",
    "        doc = doc.lower()\n",
    "        # Remove punctuations n digits\n",
    "        doc = \"\".join([char for char in doc if char not in string.punctuation and not char.isdigit()])\n",
    "        # Tokenize the text & Remove stopwords\n",
    "        tokens = [token for token in doc.split() if token not in stopwords]\n",
    "        tokens_processed.append(tokens)\n",
    "    return tokens_processed\n"
   ]
  },
  {
   "cell_type": "code",
   "execution_count": 175,
   "metadata": {},
   "outputs": [
    {
     "name": "stdout",
     "output_type": "stream",
     "text": [
      "3000 3000\n",
      "['good', 'case', 'excellent', 'value']\n",
      "1\n",
      "\n"
     ]
    }
   ],
   "source": [
    "texts_processed = preprocess_corpus(texts) # Preprocess the texts\n",
    "\n",
    "# Print the number of categories and preprocessed texts to make sure they match\n",
    "print(len(categories), len(texts_processed))\n",
    "\n",
    "# Print an example preprocessed text and its corresponding category\n",
    "print(texts_processed[1])\n",
    "print(categories[1])"
   ]
  },
  {
   "cell_type": "markdown",
   "metadata": {},
   "source": [
    "The first print statement prints the number of categories and preprocessed texts to make sure they match. Since there are 3000 texts in both categories and texts_processed, the numbers match.\n",
    "\n",
    "The second print statement prints an example preprocessed text (texts_processed[1]) and its corresponding category (categories[1]). In this case, the preprocessed text is \"good case excellent value\" and its category is 1.\n",
    "\n",
    "We can see that the preprocess function actually remove the capital letter and the punctuation from : \"Good case, Excellent value.\" Also we can see that the sentence is well tokenize ans store in a list."
   ]
  },
  {
   "cell_type": "code",
   "execution_count": 176,
   "metadata": {},
   "outputs": [
    {
     "name": "stdout",
     "output_type": "stream",
     "text": [
      "['several', 'dozen', 'several', 'hundred', 'contacts', 'imagine', 'fun', 'sending', 'one', 'one']\n",
      "0\n",
      "\n"
     ]
    }
   ],
   "source": [
    "print(texts_processed[6])\n",
    "print(categories[6])"
   ]
  },
  {
   "cell_type": "markdown",
   "metadata": {},
   "source": [
    "Here we take the sentence : \"If you have several dozen or several hundred contacts, then imagine the fun of sending each of them one by one\". We can see that the process function actually remove the stopwords. EVerything is working :)"
   ]
  },
  {
   "cell_type": "markdown",
   "metadata": {
    "id": "qv3CyuIv9nkY"
   },
   "source": [
    "## Converting text to numeric\n",
    "In this section, we will convet the text to numerical data to be fed into a Machine Learning model for classification. <br>\n",
    "We will extract the embeddings of words using w2v_model. <br>\n",
    "Finally, every sentence is the average of the embeddings of its constituting words. "
   ]
  },
  {
   "cell_type": "code",
   "execution_count": 177,
   "metadata": {},
   "outputs": [],
   "source": [
    "# Creating a feature vector by averaging all embeddings for all sentences\n",
    "def embedding_feats(list_of_lists, w2v_model):\n",
    "    DIMENSION = 300  # dimensions of the word embeddings in the model\n",
    "    zero_vector = np.zeros(DIMENSION)  # a vector of zeros to use as a placeholder for out-of-vocabulary words\n",
    "    features = []  # a list to store the embedding features for each sentence\n",
    "    \n",
    "    # loop over each sentence in the list of lists\n",
    "    for tokens in list_of_lists:\n",
    "        feature_vec = np.zeros(DIMENSION)  # initialize an empty vector for this sentence's feature representation\n",
    "        \n",
    "        # loop over each word in the sentence\n",
    "        for word in tokens:\n",
    "            try:\n",
    "                # get the word's embedding from the model and add it to the sentence's feature vector\n",
    "                feature_vec = np.add(feature_vec, w2v_model[word])\n",
    "            except KeyError:\n",
    "                # if the word is not in the model's vocabulary, use the zero vector instead\n",
    "                feature_vec = np.add(feature_vec, zero_vector)\n",
    "        \n",
    "        # divide the sentence's feature vector by the number of words to get the average\n",
    "        feature_vec = np.divide(feature_vec, len(tokens))\n",
    "        features.append(feature_vec)  # add the feature vector for this sentence to the list\n",
    "    \n",
    "    return features\n",
    "\n",
    "# Example usage:\n",
    "# embedded_texts = embedding_feats(texts_processed, w2v_model)\n",
    "# print(len(embedded_texts))\n"
   ]
  },
  {
   "cell_type": "markdown",
   "metadata": {},
   "source": [
    "This function takes a list of lists of preprocessed text (tokenized and cleaned) and a word2vec model and returns a list of feature vectors, where each feature vector is the average of the word embeddings for each word in the corresponding sentence.\n",
    "\n",
    "The function first initializes a zero vector and an empty list to store the feature vectors. Then it loops over each sentence in the list of lists and initializes an empty vector for that sentence. It then loops over each word in the sentence and tries to get the word's embedding from the word2vec model. If the word is not in the model's vocabulary, it uses the zero vector instead. The function then divides the feature vector by the number of words in the sentence to get the average and adds the resulting feature vector to the list.\n",
    "\n",
    "Finally, the function returns the list of feature vectors."
   ]
  },
  {
   "cell_type": "code",
   "execution_count": 178,
   "metadata": {},
   "outputs": [],
   "source": [
    "embedded_texts = embedding_feats(texts_processed, w2v_model)"
   ]
  },
  {
   "cell_type": "code",
   "execution_count": 201,
   "metadata": {},
   "outputs": [
    {
     "data": {
      "text/plain": [
       "list"
      ]
     },
     "execution_count": 201,
     "metadata": {},
     "output_type": "execute_result"
    }
   ],
   "source": [
    "type(embedded_texts)"
   ]
  },
  {
   "cell_type": "code",
   "execution_count": 179,
   "metadata": {
    "scrolled": true
   },
   "outputs": [
    {
     "name": "stdout",
     "output_type": "stream",
     "text": [
      "['good', 'case', 'excellent', 'value']\n",
      "[-8.72802734e-03  3.85360718e-02 -3.76892090e-02  3.76281738e-02\n",
      "  2.88085938e-02  1.33071899e-01  1.04202271e-01  1.25122070e-02\n",
      "  8.15429688e-02  1.96411133e-01 -1.15005493e-01 -1.07528687e-01\n",
      "  6.85424805e-02  1.03210449e-01 -1.34033203e-01  1.64794922e-01\n",
      "  1.15722656e-01  9.20944214e-02 -5.98144531e-02 -1.00784302e-01\n",
      "  2.13623047e-02 -3.56445312e-02 -5.05371094e-02  9.44824219e-02\n",
      "  1.37603760e-01  4.16831970e-02 -1.05106354e-01  7.23266602e-02\n",
      " -6.80541992e-03  4.42962646e-02 -1.29089355e-02 -1.16348267e-01\n",
      "  1.21215820e-01 -4.88281250e-04  1.49688721e-01  1.67114258e-01\n",
      "  4.11987305e-02 -1.76849365e-02 -4.12597656e-02 -3.65600586e-02\n",
      "  1.57836914e-01 -3.13892365e-02  5.98526001e-02  2.53143311e-02\n",
      " -1.13525391e-01 -1.01074219e-01  1.03820801e-01  2.39868164e-02\n",
      "  4.63256836e-02 -4.69970703e-02  5.49316406e-02  5.71289062e-02\n",
      " -9.80224609e-02 -3.83300781e-02  3.49044800e-03  2.89916992e-02\n",
      " -5.82714081e-02 -6.11381531e-02  1.55151367e-01 -7.03125000e-02\n",
      " -7.29980469e-02  6.16912842e-02 -2.13668823e-01 -6.64329529e-02\n",
      " -6.92749023e-03 -2.46353149e-02 -2.67333984e-02 -9.69238281e-02\n",
      " -1.16088867e-01 -1.50756836e-02  3.73535156e-02 -6.46362305e-02\n",
      "  2.02392578e-01 -2.29797363e-02 -1.50512695e-01  1.77001953e-03\n",
      "  6.74438477e-02  1.02478027e-01  1.16638184e-01  5.09395599e-02\n",
      " -1.60217285e-02 -4.57763672e-05  2.07824707e-02  9.92431641e-02\n",
      "  2.35595703e-02 -1.50207520e-01 -1.02233887e-01  1.78466797e-01\n",
      " -3.01361084e-02  1.86157227e-03  1.22680664e-01  3.32031250e-02\n",
      " -3.45916748e-02  1.08642578e-02 -1.98974609e-02 -1.04553223e-01\n",
      " -3.11279297e-02  1.33178711e-01  2.73895264e-02 -1.76086426e-01\n",
      " -1.30310059e-02  7.15103149e-02 -8.81958008e-02  3.97949219e-02\n",
      "  1.48925781e-02  2.79846191e-02 -6.66809082e-02  6.08215332e-02\n",
      "  1.83258057e-02 -1.48010254e-01  1.64794922e-03  9.54284668e-02\n",
      " -1.17431641e-01  4.41894531e-02  2.13073730e-01 -3.03955078e-02\n",
      "  1.58691406e-03 -9.55810547e-02  1.50756836e-02  1.43127441e-02\n",
      " -1.81884766e-02 -4.54101562e-02  1.33972168e-02  1.42333984e-01\n",
      " -4.90722656e-02  1.73187256e-02 -3.57151031e-02 -1.56895638e-01\n",
      " -4.23507690e-02  1.29150391e-01 -1.67953491e-01 -5.45654297e-02\n",
      " -1.40014648e-01 -2.20947266e-02 -5.54714203e-02 -8.11157227e-02\n",
      "  1.14013672e-01  6.29606247e-02 -3.70178223e-02  1.91467285e-01\n",
      "  7.15942383e-02  6.56738281e-02  7.71789551e-02  3.17382812e-02\n",
      " -1.24465942e-01 -7.64160156e-02 -6.90917969e-02 -7.77912140e-02\n",
      "  8.53881836e-02 -3.60870361e-02  1.60034180e-01  7.36083984e-02\n",
      " -1.34155273e-01  1.49902344e-01 -1.03027344e-01  2.12097168e-03\n",
      " -3.63159180e-02 -1.46118164e-01 -9.11254883e-02 -4.85229492e-02\n",
      " -9.92431641e-02  4.87060547e-02  1.04553223e-01  8.30078125e-02\n",
      "  1.37084961e-01  3.17382812e-02 -3.32641602e-02 -1.57470703e-01\n",
      " -6.22558594e-03 -7.66601562e-02 -7.69042969e-02 -1.40609741e-02\n",
      " -3.74755859e-02 -2.02484131e-02 -3.39508057e-04  2.40478516e-02\n",
      "  7.28988647e-02 -4.47387695e-02  3.25775146e-02 -6.75964355e-03\n",
      " -1.05346680e-01 -1.43615723e-01 -1.21612549e-01 -1.51123047e-01\n",
      " -4.89501953e-02 -1.09069824e-01 -6.82373047e-02  5.34667969e-02\n",
      " -2.48413086e-02 -6.66427612e-03 -1.85516357e-01  4.18701172e-02\n",
      " -3.11889648e-02 -9.39636230e-02 -2.93579102e-02 -5.30624390e-02\n",
      "  3.33251953e-02 -8.47778320e-02 -3.41186523e-02 -8.27636719e-02\n",
      "  3.56445312e-02  1.13342285e-01 -3.37524414e-02 -1.17736816e-01\n",
      " -2.34375000e-02 -9.03320312e-02 -1.05834961e-01  6.70433044e-03\n",
      "  5.58471680e-03  9.48486328e-02  2.28881836e-03  6.98394775e-02\n",
      " -1.25122070e-01  9.29565430e-02 -1.06292725e-01  5.05371094e-02\n",
      "  1.63330078e-01  1.89819336e-02  7.53173828e-02  6.62841797e-02\n",
      " -2.74658203e-02  7.48596191e-02 -9.36889648e-02  7.12432861e-02\n",
      "  2.77099609e-02  3.82995605e-02  2.25830078e-02 -5.15136719e-02\n",
      "  3.72314453e-03  3.72314453e-03 -1.22741699e-01 -5.66711426e-02\n",
      "  7.08007812e-02 -4.76226807e-02  1.47705078e-02 -3.83739471e-02\n",
      " -1.06292725e-01 -4.61082458e-02  1.28173828e-02  2.88696289e-02\n",
      " -4.46777344e-02  4.76531982e-02  9.71679688e-02 -4.32720184e-02\n",
      "  2.66113281e-02  1.40441895e-01  2.29644775e-02 -2.79083252e-02\n",
      " -2.62451172e-02 -1.71127319e-01  7.53021240e-03  8.99658203e-02\n",
      " -1.98974609e-02  1.11450195e-01  9.71679688e-02 -1.45019531e-01\n",
      "  9.76562500e-04  5.26733398e-02 -7.17773438e-02 -9.97314453e-02\n",
      " -2.92358398e-02  2.95410156e-02 -1.43554688e-01  2.12402344e-02\n",
      "  7.41882324e-02  5.95092773e-02 -1.54418945e-02 -1.44836426e-01\n",
      " -8.21075439e-02 -8.10546875e-02  3.20129395e-02  5.81665039e-02\n",
      "  2.32543945e-02 -1.93634033e-02  3.18603516e-02  5.80749512e-02\n",
      "  8.67309570e-02 -1.23718262e-01 -1.31103516e-01  5.57250977e-02\n",
      "  1.91040039e-02  1.02844238e-02  8.74042511e-02  1.48437500e-01\n",
      " -1.15295410e-01 -1.39160156e-02 -6.47506714e-02 -2.16369629e-02\n",
      " -4.26673889e-02 -1.25579834e-02  2.44598389e-02  5.86643219e-02\n",
      " -1.13159180e-01 -9.43756104e-03  2.34985352e-02  1.32476807e-01\n",
      "  3.20434570e-04 -1.20605469e-01 -3.22475433e-02 -3.12347412e-02]\n"
     ]
    }
   ],
   "source": [
    "print(texts_processed[1])\n",
    "print(embedded_texts[1])"
   ]
  },
  {
   "cell_type": "markdown",
   "metadata": {},
   "source": [
    "The output of the function embedding_feats() is embedded_texts, a list of embedding vectors, one for each input text."
   ]
  },
  {
   "cell_type": "markdown",
   "metadata": {
    "id": "j3vOSvA8-m5M"
   },
   "source": [
    "## Text Classification\n",
    "For this example, we will use a simple Logistic Regression to classify the text.<br>\n",
    "* Initialize a Logistic Regression model\n",
    "* Split the embedded_texts and categories to train and test data and target\n",
    "* Fit the model with the training data samples\n",
    "* Predict on the test data samples\n",
    "* Print the classification report"
   ]
  },
  {
   "cell_type": "code",
   "execution_count": 180,
   "metadata": {
    "id": "mr9IaQppb_Ix"
   },
   "outputs": [],
   "source": [
    "#Take any classifier (LogisticRegression here, and train/test it like before.\n",
    "model = LogisticRegression()"
   ]
  },
  {
   "cell_type": "markdown",
   "metadata": {},
   "source": [
    "## Split the embedded_texts and categories to train and test data and target"
   ]
  },
  {
   "cell_type": "code",
   "execution_count": 181,
   "metadata": {},
   "outputs": [
    {
     "name": "stdout",
     "output_type": "stream",
     "text": [
      "3000 3000\n"
     ]
    }
   ],
   "source": [
    "# X = the column text contains textual data to extract features from\n",
    "#X = data\n",
    "X = embedded_texts\n",
    "# y = target = the column we are learning to predict. \n",
    "#y = label\n",
    "y = categories\n",
    "\n",
    "print(len(X), len(y))"
   ]
  },
  {
   "cell_type": "code",
   "execution_count": 182,
   "metadata": {},
   "outputs": [],
   "source": [
    "# split X and y into training and testing sets. By default, it splits 75% training and 25% test\n",
    "# random_state=1 for reproducibility\n",
    "X_train, X_test, y_train, y_test = train_test_split(X,y,test_size=0.25,random_state=1)"
   ]
  },
  {
   "cell_type": "code",
   "execution_count": 183,
   "metadata": {},
   "outputs": [
    {
     "name": "stdout",
     "output_type": "stream",
     "text": [
      "600\n",
      "0\n"
     ]
    }
   ],
   "source": [
    "#Check for Nan values \n",
    "print(np.isnan(X_train).sum())\n",
    "print(np.isinf(X_train).sum())"
   ]
  },
  {
   "cell_type": "code",
   "execution_count": 184,
   "metadata": {},
   "outputs": [],
   "source": [
    "#Replace nan values by 0\n",
    "X_train = np.nan_to_num(X_train, nan=0, posinf=1e9, neginf=-1e9)"
   ]
  },
  {
   "cell_type": "code",
   "execution_count": 200,
   "metadata": {},
   "outputs": [
    {
     "data": {
      "text/plain": [
       "numpy.ndarray"
      ]
     },
     "execution_count": 200,
     "metadata": {},
     "output_type": "execute_result"
    }
   ],
   "source": [
    "type(X_train)"
   ]
  },
  {
   "cell_type": "markdown",
   "metadata": {},
   "source": [
    "## Fit the model with the training data samples"
   ]
  },
  {
   "cell_type": "code",
   "execution_count": 185,
   "metadata": {},
   "outputs": [
    {
     "data": {
      "text/plain": [
       "LogisticRegression()"
      ]
     },
     "execution_count": 185,
     "metadata": {},
     "output_type": "execute_result"
    }
   ],
   "source": [
    "model.fit(X_train, y_train)"
   ]
  },
  {
   "cell_type": "markdown",
   "metadata": {},
   "source": [
    "## Predict on the test data samples"
   ]
  },
  {
   "cell_type": "code",
   "execution_count": 186,
   "metadata": {},
   "outputs": [
    {
     "data": {
      "text/plain": [
       "array(['0\\n', '1\\n', '1\\n', '0\\n', '1\\n', '1\\n', '0\\n', '0\\n', '1\\n',\n",
       "       '0\\n', '0\\n', '1\\n', '1\\n', '0\\n', '1\\n', '1\\n', '0\\n', '1\\n',\n",
       "       '1\\n', '1\\n', '0\\n', '0\\n', '1\\n', '0\\n', '1\\n', '0\\n', '1\\n',\n",
       "       '0\\n', '1\\n', '0\\n', '1\\n', '1\\n', '0\\n', '0\\n', '1\\n', '1\\n',\n",
       "       '0\\n', '1\\n', '1\\n', '1\\n', '0\\n', '1\\n', '0\\n', '0\\n', '1\\n',\n",
       "       '0\\n', '1\\n', '1\\n', '0\\n', '1\\n', '1\\n', '0\\n', '1\\n', '1\\n',\n",
       "       '1\\n', '0\\n', '1\\n', '1\\n', '1\\n', '1\\n', '1\\n', '1\\n', '1\\n',\n",
       "       '0\\n', '1\\n', '1\\n', '0\\n', '1\\n', '1\\n', '1\\n', '0\\n', '0\\n',\n",
       "       '1\\n', '1\\n', '0\\n', '0\\n', '1\\n', '0\\n', '0\\n', '0\\n', '1\\n',\n",
       "       '1\\n', '1\\n', '1\\n', '1\\n', '1\\n', '1\\n', '1\\n', '1\\n', '1\\n',\n",
       "       '0\\n', '1\\n', '0\\n', '0\\n', '1\\n', '1\\n', '0\\n', '1\\n', '1\\n',\n",
       "       '1\\n', '0\\n', '1\\n', '0\\n', '1\\n', '0\\n', '0\\n', '0\\n', '0\\n',\n",
       "       '1\\n', '0\\n', '1\\n', '1\\n', '1\\n', '0\\n', '0\\n', '1\\n', '1\\n',\n",
       "       '0\\n', '0\\n', '1\\n', '1\\n', '1\\n', '1\\n', '0\\n', '1\\n', '1\\n',\n",
       "       '1\\n', '0\\n', '1\\n', '0\\n', '1\\n', '0\\n', '0\\n', '1\\n', '0\\n',\n",
       "       '0\\n', '0\\n', '1\\n', '0\\n', '1\\n', '1\\n', '0\\n', '0\\n', '1\\n',\n",
       "       '1\\n', '1\\n', '1\\n', '1\\n', '1\\n', '1\\n', '1\\n', '0\\n', '0\\n',\n",
       "       '1\\n', '1\\n', '0\\n', '1\\n', '1\\n', '1\\n', '1\\n', '0\\n', '0\\n',\n",
       "       '1\\n', '1\\n', '0\\n', '1\\n', '1\\n', '1\\n', '1\\n', '1\\n', '0\\n',\n",
       "       '1\\n', '1\\n', '0\\n', '1\\n', '1\\n', '0\\n', '0\\n', '0\\n', '1\\n',\n",
       "       '1\\n', '0\\n', '1\\n', '1\\n', '1\\n', '0\\n', '1\\n', '1\\n', '1\\n',\n",
       "       '0\\n', '1\\n', '0\\n', '0\\n', '1\\n', '1\\n', '0\\n', '0\\n', '1\\n',\n",
       "       '0\\n', '0\\n', '0\\n', '0\\n', '1\\n', '0\\n', '1\\n', '1\\n', '0\\n',\n",
       "       '1\\n', '0\\n', '1\\n', '1\\n', '0\\n', '1\\n', '1\\n', '1\\n', '1\\n',\n",
       "       '1\\n', '0\\n', '0\\n', '1\\n', '1\\n', '1\\n', '1\\n', '0\\n', '1\\n',\n",
       "       '1\\n', '0\\n', '0\\n', '0\\n', '1\\n', '0\\n', '0\\n', '0\\n', '0\\n',\n",
       "       '0\\n', '1\\n', '0\\n', '0\\n', '1\\n', '1\\n', '1\\n', '1\\n', '0\\n',\n",
       "       '0\\n', '0\\n', '1\\n', '1\\n', '0\\n', '1\\n', '0\\n', '1\\n', '0\\n',\n",
       "       '0\\n', '1\\n', '1\\n', '1\\n', '1\\n', '0\\n', '0\\n', '0\\n', '1\\n',\n",
       "       '1\\n', '1\\n', '0\\n', '1\\n', '0\\n', '0\\n', '0\\n', '0\\n', '1\\n',\n",
       "       '0\\n', '0\\n', '1\\n', '0\\n', '0\\n', '0\\n', '0\\n', '1\\n', '0\\n',\n",
       "       '0\\n', '0\\n', '0\\n', '1\\n', '1\\n', '1\\n', '0\\n', '1\\n', '0\\n',\n",
       "       '0\\n', '1\\n', '0\\n', '0\\n', '0\\n', '1\\n', '0\\n', '1\\n', '1\\n',\n",
       "       '0\\n', '1\\n', '1\\n', '0\\n', '1\\n', '0\\n', '0\\n', '1\\n', '0\\n',\n",
       "       '1\\n', '0\\n', '1\\n', '1\\n', '0\\n', '1\\n', '0\\n', '1\\n', '0\\n',\n",
       "       '0\\n', '1\\n', '1\\n', '0\\n', '0\\n', '1\\n', '0\\n', '1\\n', '0\\n',\n",
       "       '1\\n', '0\\n', '1\\n', '1\\n', '1\\n', '0\\n', '0\\n', '1\\n', '1\\n',\n",
       "       '1\\n', '1\\n', '0\\n', '1\\n', '0\\n', '1\\n', '1\\n', '1\\n', '1\\n',\n",
       "       '0\\n', '0\\n', '0\\n', '0\\n', '0\\n', '0\\n', '0\\n', '0\\n', '0\\n',\n",
       "       '0\\n', '1\\n', '0\\n', '1\\n', '1\\n', '0\\n', '0\\n', '1\\n', '1\\n',\n",
       "       '0\\n', '1\\n', '0\\n', '1\\n', '1\\n', '0\\n', '1\\n', '1\\n', '1\\n',\n",
       "       '0\\n', '1\\n', '0\\n', '1\\n', '0\\n', '0\\n', '0\\n', '0\\n', '0\\n',\n",
       "       '1\\n', '1\\n', '1\\n', '0\\n', '1\\n', '0\\n', '0\\n', '1\\n', '0\\n',\n",
       "       '1\\n', '0\\n', '1\\n', '1\\n', '1\\n', '0\\n', '0\\n', '1\\n', '0\\n',\n",
       "       '1\\n', '0\\n', '1\\n', '1\\n', '0\\n', '0\\n', '0\\n', '0\\n', '0\\n',\n",
       "       '0\\n', '1\\n', '0\\n', '0\\n', '1\\n', '0\\n', '0\\n', '0\\n', '0\\n',\n",
       "       '0\\n', '0\\n', '0\\n', '1\\n', '0\\n', '0\\n', '0\\n', '1\\n', '0\\n',\n",
       "       '1\\n', '1\\n', '0\\n', '0\\n', '0\\n', '1\\n', '1\\n', '0\\n', '1\\n',\n",
       "       '1\\n', '0\\n', '1\\n', '0\\n', '1\\n', '0\\n', '1\\n', '0\\n', '1\\n',\n",
       "       '0\\n', '1\\n', '1\\n', '1\\n', '1\\n', '1\\n', '1\\n', '0\\n', '0\\n',\n",
       "       '0\\n', '1\\n', '1\\n', '0\\n', '0\\n', '1\\n', '1\\n', '0\\n', '0\\n',\n",
       "       '1\\n', '0\\n', '0\\n', '0\\n', '1\\n', '0\\n', '0\\n', '1\\n', '0\\n',\n",
       "       '1\\n', '1\\n', '1\\n', '0\\n', '1\\n', '1\\n', '0\\n', '1\\n', '0\\n',\n",
       "       '0\\n', '0\\n', '0\\n', '0\\n', '0\\n', '1\\n', '1\\n', '1\\n', '0\\n',\n",
       "       '1\\n', '1\\n', '1\\n', '1\\n', '0\\n', '0\\n', '1\\n', '0\\n', '1\\n',\n",
       "       '1\\n', '1\\n', '1\\n', '0\\n', '0\\n', '1\\n', '1\\n', '0\\n', '0\\n',\n",
       "       '0\\n', '1\\n', '1\\n', '0\\n', '0\\n', '1\\n', '1\\n', '0\\n', '0\\n',\n",
       "       '1\\n', '0\\n', '1\\n', '1\\n', '0\\n', '1\\n', '1\\n', '1\\n', '1\\n',\n",
       "       '0\\n', '0\\n', '1\\n', '1\\n', '1\\n', '0\\n', '0\\n', '1\\n', '0\\n',\n",
       "       '1\\n', '1\\n', '1\\n', '1\\n', '0\\n', '1\\n', '0\\n', '0\\n', '0\\n',\n",
       "       '1\\n', '0\\n', '0\\n', '1\\n', '0\\n', '1\\n', '0\\n', '0\\n', '0\\n',\n",
       "       '1\\n', '1\\n', '0\\n', '1\\n', '1\\n', '0\\n', '1\\n', '1\\n', '0\\n',\n",
       "       '0\\n', '1\\n', '0\\n', '1\\n', '1\\n', '1\\n', '0\\n', '1\\n', '0\\n',\n",
       "       '0\\n', '1\\n', '1\\n', '0\\n', '0\\n', '0\\n', '1\\n', '0\\n', '0\\n',\n",
       "       '1\\n', '0\\n', '1\\n', '1\\n', '1\\n', '1\\n', '1\\n', '1\\n', '1\\n',\n",
       "       '0\\n', '0\\n', '0\\n', '0\\n', '0\\n', '0\\n', '1\\n', '0\\n', '0\\n',\n",
       "       '0\\n', '0\\n', '0\\n', '1\\n', '0\\n', '0\\n', '0\\n', '0\\n', '0\\n',\n",
       "       '0\\n', '1\\n', '0\\n', '0\\n', '0\\n', '1\\n', '1\\n', '1\\n', '0\\n',\n",
       "       '0\\n', '0\\n', '1\\n', '0\\n', '0\\n', '1\\n', '0\\n', '1\\n', '0\\n',\n",
       "       '0\\n', '0\\n', '0\\n', '1\\n', '1\\n', '0\\n', '0\\n', '1\\n', '0\\n',\n",
       "       '1\\n', '1\\n', '1\\n', '1\\n', '0\\n', '0\\n', '1\\n', '0\\n', '0\\n',\n",
       "       '1\\n', '0\\n', '0\\n', '0\\n', '1\\n', '1\\n', '0\\n', '1\\n', '0\\n',\n",
       "       '1\\n', '1\\n', '1\\n', '1\\n', '0\\n', '1\\n', '1\\n', '0\\n', '1\\n',\n",
       "       '1\\n', '1\\n', '0\\n', '0\\n', '1\\n', '0\\n', '0\\n', '0\\n', '0\\n',\n",
       "       '0\\n', '1\\n', '1\\n', '0\\n', '0\\n', '1\\n', '0\\n', '1\\n', '0\\n',\n",
       "       '1\\n', '0\\n', '0\\n', '1\\n', '1\\n', '1\\n', '0\\n', '1\\n', '0\\n',\n",
       "       '1\\n', '1\\n', '0\\n', '1\\n', '1\\n', '1\\n', '0\\n', '1\\n', '1\\n',\n",
       "       '1\\n', '0\\n', '0\\n', '1\\n', '0\\n', '0\\n', '0\\n', '1\\n', '1\\n',\n",
       "       '1\\n', '0\\n', '1\\n', '1\\n', '0\\n', '1\\n', '1\\n', '1\\n', '0\\n',\n",
       "       '0\\n', '0\\n', '0\\n', '0\\n', '0\\n', '1\\n', '1\\n', '1\\n', '1\\n',\n",
       "       '1\\n', '0\\n', '0\\n', '0\\n', '0\\n', '0\\n', '1\\n', '0\\n', '1\\n',\n",
       "       '0\\n', '1\\n', '0\\n', '1\\n', '1\\n', '0\\n', '0\\n', '0\\n', '1\\n',\n",
       "       '0\\n', '1\\n', '1\\n', '1\\n', '1\\n', '1\\n', '0\\n', '0\\n', '1\\n',\n",
       "       '0\\n', '1\\n', '1\\n'], dtype='<U2')"
      ]
     },
     "execution_count": 186,
     "metadata": {},
     "output_type": "execute_result"
    }
   ],
   "source": [
    "y_pred = model.predict(X_test)\n",
    "y_pred"
   ]
  },
  {
   "cell_type": "markdown",
   "metadata": {},
   "source": [
    "## Classification report"
   ]
  },
  {
   "cell_type": "code",
   "execution_count": 187,
   "metadata": {},
   "outputs": [
    {
     "name": "stdout",
     "output_type": "stream",
     "text": [
      "              precision    recall  f1-score   support\n",
      "\n",
      "          0\n",
      "       0.81      0.82      0.81       360\n",
      "          1\n",
      "       0.83      0.82      0.83       390\n",
      "\n",
      "    accuracy                           0.82       750\n",
      "   macro avg       0.82      0.82      0.82       750\n",
      "weighted avg       0.82      0.82      0.82       750\n",
      "\n"
     ]
    }
   ],
   "source": [
    "# Generate the classification report\n",
    "report = classification_report(y_test, y_pred)\n",
    "\n",
    "# Print the classification report\n",
    "print(report)"
   ]
  },
  {
   "cell_type": "markdown",
   "metadata": {},
   "source": [
    "(Values are shifted on the left)\n",
    "\n",
    "The classification report summarizes the performance of a classifier on a set of test data. In this case, the report is for a binary classification task with two classes: 0 and 1.\n",
    "\n",
    "Precision: The precision for class 0 is 0.81, which means that out of all the samples that the classifier predicted to be class 0, 81% of them actually belong to class 0. Similarly, the precision for class 1 is 0.83, meaning that out of all the samples that the classifier predicted to be class 1, 83% of them actually belong to class 1.\n",
    "\n",
    "Recall: The recall for class 0 is 0.82, which means that out of all the samples that belong to class 0, 82% of them were correctly identified by the classifier. Similarly, the recall for class 1 is 0.82, meaning that out of all the samples that belong to class 1, 82% of them were correctly identified by the classifier.\n",
    "\n",
    "F1 score – What percent of positive predictions were correct? The F1 score is a weighted harmonic mean of precision and recall such that the best score is 1.0 and the worst is 0.0. Generally speaking, F1 scores are lower than accuracy measures as they embed precision and recall into their computation. As a rule of thumb, the weighted average of F1 should be used to compare classifier models, not global accuracy.\n",
    "\n",
    "The F1-score is the harmonic mean of precision and recall. The F1-score for class 0 is 0.81, and for class 1 is 0.83.\n",
    "\n",
    "Support: The support column shows the number of samples in each class.\n",
    "\n",
    "Accuracy: The overall accuracy of the classifier is 0.82, which means that 82% of all samples in the test set were classified correctly.\n",
    "\n",
    "Macro average: The macro average of precision, recall, and F1-score is calculated by taking the unweighted average across both classes. In this case, the macro average is 0.82.\n",
    "\n",
    "Weighted average: The weighted average of precision, recall, and F1-score is calculated by taking a weighted average across both classes, where the weights are proportional to the number of samples in each class. In this case, the weighted average is also 0.82."
   ]
  },
  {
   "cell_type": "code",
   "execution_count": 1,
   "metadata": {},
   "outputs": [],
   "source": [
    "# import different metrics to evaluate the classifiers\n",
    "from sklearn.metrics import accuracy_score\n",
    "\n",
    "# from sklearn.model_selection import train_test_split\n",
    "from sklearn.metrics import confusion_matrix \n",
    "\n",
    "# matplotlib imports are used to plot confusion matrices for the classifiers\n",
    "import matplotlib as mpl \n",
    "import matplotlib.cm as cm \n",
    "import matplotlib.pyplot as plt \n",
    "\n",
    "import itertools"
   ]
  },
  {
   "cell_type": "markdown",
   "metadata": {},
   "source": [
    "## Confusion Matrix"
   ]
  },
  {
   "cell_type": "code",
   "execution_count": 196,
   "metadata": {},
   "outputs": [],
   "source": [
    "def plot_confusion_matrix(cm, classes,\n",
    "                          normalize=False,\n",
    "                          title='Confusion matrix',\n",
    "                          cmap=plt.cm.Blues):\n",
    "    \"\"\"\n",
    "    This function prints and plots the confusion matrix.\n",
    "    Normalization can be applied by setting `normalize=True`.\n",
    "    \"\"\"\n",
    "    if normalize:\n",
    "        cm = cm.astype('float') / cm.sum(axis=1)[:, np.newaxis]\n",
    "\n",
    "    plt.imshow(cm, interpolation='nearest', cmap=cmap)\n",
    "    plt.title(title)\n",
    "    plt.colorbar()\n",
    "    tick_marks = np.arange(len(classes))\n",
    "    plt.xticks(tick_marks, classes, rotation=45)\n",
    "    plt.yticks(tick_marks, classes)\n",
    "\n",
    "    fmt = '.2f' if normalize else 'd'\n",
    "    thresh = cm.max() / 2.\n",
    "    for i, j in itertools.product(range(cm.shape[0]), range(cm.shape[1])):\n",
    "        plt.text(j, i, format(cm[i, j], fmt),\n",
    "                 horizontalalignment=\"center\",\n",
    "                 color=\"white\" if cm[i, j] > thresh else \"black\")\n",
    "\n",
    "    plt.tight_layout()\n",
    "    plt.ylabel('True label',fontsize=15)\n",
    "    plt.xlabel('Predicted label',fontsize=15)"
   ]
  },
  {
   "cell_type": "code",
   "execution_count": 198,
   "metadata": {},
   "outputs": [
    {
     "name": "stdout",
     "output_type": "stream",
     "text": [
      "Accuracy:  0.82\n"
     ]
    },
    {
     "data": {
      "image/png": "[encoded data removed]",
      "text/plain": [
       "<Figure size 600x400 with 2 Axes>"
      ]
     },
     "metadata": {},
     "output_type": "display_data"
    }
   ],
   "source": [
    "# Print accuracy:\n",
    "accuracy = accuracy_score(y_test, y_pred)\n",
    "print(\"Accuracy: \", accuracy)\n",
    "    \n",
    "# compute the confusion matrix\n",
    "cnf_matrix = confusion_matrix(y_test,y_pred)\n",
    "# plot cnf_matrix\n",
    "plt.figure(figsize=(6,4))\n",
    "plot_confusion_matrix(cnf_matrix, classes=['Positive','Negative'],normalize=True,\n",
    "                      title='Confusion matrix with all features')"
   ]
  },
  {
   "cell_type": "markdown",
   "metadata": {},
   "source": [
    "Here we can see the same general accuracy score of 82% meaning that 82% of all samples in the test set were classified correctly. However the confusion matrix help having a more visual understanding of the predicted classes. We can see that 82% of the predictions are True Positive or True Negative\n",
    "\n",
    "The dataset consists of 1500 positive, and 1500 negative, it's a binary distribution where the data set is totally balance. That's confusion matrix show that the model respect the dataset parameter by classifying the exact same number of words in each categories. However that's perfectly balance result is a bit suspicious and I would like to have your explanation on this result\n",
    "\n",
    "Maybe thats strange score is due a a diffculty I went trough during the feating part. Weirdly the X_train has missing values. I replace them by 0 so maybe the model is actually overfitting the data set. "
   ]
  },
  {
   "cell_type": "code",
   "execution_count": null,
   "metadata": {},
   "outputs": [],
   "source": []
  },
  {
   "cell_type": "code",
   "execution_count": null,
   "metadata": {},
   "outputs": [],
   "source": []
  }
 ],
 "metadata": {
  "accelerator": "GPU",
  "colab": {
   "collapsed_sections": [],
   "name": "chapTextClassification_Word2Vec-student-version.ipynb",
   "provenance": []
  },
  "kernelspec": {
   "display_name": "Python 3 (ipykernel)",
   "language": "python",
   "name": "python3"
  },
  "language_info": {
   "codemirror_mode": {
    "name": "ipython",
    "version": 3
   },
   "file_extension": ".py",
   "mimetype": "text/x-python",
   "name": "python",
   "nbconvert_exporter": "python",
   "pygments_lexer": "ipython3",
   "version": "3.9.13"
  }
 },
 "nbformat": 4,
 "nbformat_minor": 1
}
